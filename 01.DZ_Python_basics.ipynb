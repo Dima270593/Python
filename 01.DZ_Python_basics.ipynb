{
 "cells": [
  {
   "cell_type": "code",
   "execution_count": 12,
   "metadata": {},
   "outputs": [
    {
     "name": "stdout",
     "output_type": "stream",
     "text": [
      "Фраза 1 длиннее фразы 2\n"
     ]
    }
   ],
   "source": [
    "phrase_1 = 'Насколько проще было бы писать программы, если бы не заказчики'\n",
    "phrase_2 = '640Кб должно хватить для любых задач. Билл Гейтс (по легенде)'\n",
    "if len(phrase_1) < len(phrase_2):\n",
    "    print('Фраза 2 длиннее фразы 1')\n",
    "elif len(phrase_1) == len(phrase_2):\n",
    "    print('Фраза равной длины')\n",
    "elif len(phrase_1) > len(phrase_2):\n",
    "    print('Фраза 1 длиннее фразы 2')"
   ]
  },
  {
   "cell_type": "code",
   "execution_count": 35,
   "metadata": {},
   "outputs": [
    {
     "name": "stdout",
     "output_type": "stream",
     "text": [
      "Введите год2020\n",
      "Високосный год\n"
     ]
    }
   ],
   "source": [
    "year = int(input('Введите год'))\n",
    "if (year % 4 == 0) and (year % 100 != 0) or (year % 400 == 0):\n",
    "    print('Високосный год')\n",
    "else:\n",
    "    print('Обычный год')"
   ]
  },
  {
   "cell_type": "code",
   "execution_count": 33,
   "metadata": {},
   "outputs": [
    {
     "name": "stdout",
     "output_type": "stream",
     "text": [
      "Введите день:27\n",
      "Введите месяц:5\n",
      "Ваш знак зодиака:Близнецы\n"
     ]
    }
   ],
   "source": [
    "date = int(input(\"Введите день:\"))\n",
    "month = int(input(\"Введите месяц:\"))\n",
    "if (date >= 21 and date <= 31 and month == 3) or( month == 4 and date >= 1 and date <= 19):\n",
    "    print (\"Ваш знак зодиака:Овен\")\n",
    "elif (date >= 20 and date <= 30 and month == 4) or( month == 5 and date >= 1 and date <= 20):\n",
    "   print(\"Ваш знак зодиака:Телец\")\n",
    "elif (date >= 21 and date <= 31 and month == 5) or( month == 6 and date >= 1 and date <= 21):\n",
    "   print(\"Ваш знак зодиака:Близнецы\")\n",
    "elif (date >= 22 and date <= 30 and month == 6) or( month == 7 and date >= 1 and date <= 22):\n",
    "   print(\"Ваш знак зодиака:Рак\")\n",
    "elif (date >= 23 and date <= 31 and month == 7) or( month == 8 and date >= 1 and date <= 22):\n",
    "   print(\"Ваш знак зодиака:Лев\")\n",
    "elif (date >= 23 and date <= 31 and month == 8) or( month == 9 and date >= 1 and date <= 22):\n",
    "   print(\"Ваш знак зодиака:Дева\")\n",
    "elif (date >= 23 and date <= 30 and month == 9) or( month == 10 and date >= 1 and date <= 23):\n",
    "   print(\"Ваш знак зодиака:Весы\")\n",
    "elif (date >= 24 and date <= 31 and month == 10) or( month == 11 and date >= 1 and date <= 22):\n",
    "   print(\"Ваш знак зодиака:Скорпион\")\n",
    "elif (date >= 23 and date <= 30 and month == 11) or( month == 12 and date >= 1 and date <= 21):\n",
    "   print(\"Ваш знак зодиака:Стрелец\")\n",
    "elif (date >= 22 and date <= 31 and month == 12) or( month == 1 and date >= 1 and date <= 20):\n",
    "   print(\"Ваш знак зодиака:Козерог\")\n",
    "elif (date >= 21 and date <= 31 and month == 1) or( month == 2 and date >= 1 and date <= 18):\n",
    "   print(\"Ваш знак зодиака:Водолей\")\n",
    "elif (date >= 19 and date <= 29 and month == 2) or( month == 3 and date >= 1 and date <= 20):\n",
    "   print(\"Ваш знак зодиака:Рыбы\")"
   ]
  },
  {
   "cell_type": "code",
   "execution_count": 32,
   "metadata": {},
   "outputs": [
    {
     "name": "stdout",
     "output_type": "stream",
     "text": [
      "Введите ширину:20\n",
      "Введите длину:210\n",
      "Введите высоту:45\n",
      "Упаковка для лыж\n"
     ]
    }
   ],
   "source": [
    "width = int(input(\"Введите ширину:\"))\n",
    "length = int(input(\"Введите длину:\"))\n",
    "height = int(input(\"Введите высоту:\"))\n",
    "if ((width < 15) or (length < 15) or (height < 15)):\n",
    "    print(\"Коробка №1\")\n",
    "elif(length > 200):\n",
    "    print(\"Упаковка для лыж\")\n",
    "elif((15 < width < 50) or (15 < length < 50) or (15 < height < 50)):\n",
    "    print(\"Коробка №2\")\n",
    "else:\n",
    "    print(\"Стандартная коробка №3\")"
   ]
  }
 ],
 "metadata": {
  "kernelspec": {
   "display_name": "Python 3",
   "language": "python",
   "name": "python3"
  },
  "language_info": {
   "codemirror_mode": {
    "name": "ipython",
    "version": 3
   },
   "file_extension": ".py",
   "mimetype": "text/x-python",
   "name": "python",
   "nbconvert_exporter": "python",
   "pygments_lexer": "ipython3",
   "version": "3.8.3"
  }
 },
 "nbformat": 4,
 "nbformat_minor": 4
}
